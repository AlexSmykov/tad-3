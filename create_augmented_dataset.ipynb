{
 "cells": [
  {
   "cell_type": "code",
   "execution_count": null,
   "metadata": {},
   "outputs": [],
   "source": [
    "import cv2\n",
    "import os"
   ]
  },
  {
   "cell_type": "code",
   "execution_count": null,
   "metadata": {},
   "outputs": [],
   "source": [
    "VARIANTS = ['food', 'non_food']\n",
    "IMAGE_SIZE = (256, 256)"
   ]
  },
  {
   "cell_type": "code",
   "execution_count": null,
   "metadata": {},
   "outputs": [],
   "source": [
    "def getProcessedImage(path):\n",
    "    pic = cv2.imread(path)\n",
    "    pic_gray = cv2.cvtColor(pic, cv2.COLOR_BGR2GRAY)\n",
    "    \n",
    "    return cv2.resize(pic_gray, IMAGE_SIZE)"
   ]
  },
  {
   "cell_type": "code",
   "execution_count": null,
   "metadata": {},
   "outputs": [],
   "source": [
    "def saveWithAugment(path, img):\n",
    "    cv2.imwrite(path, img)\n",
    "    cv2.imwrite(path + 'augmented_1', cv2.rotate(img, cv2.ROTATE_90_CLOCKWISE))\n",
    "    cv2.imwrite(path + 'augmented_2', cv2.rotate(img, cv2.ROTATE_180))\n",
    "    cv2.imwrite(path + 'augmented_3', cv2.rotate(img, cv2.ROTATE_90_COUNTERCLOCKWISE))"
   ]
  },
  {
   "cell_type": "code",
   "execution_count": null,
   "metadata": {},
   "outputs": [],
   "source": [
    "try:\n",
    "    os.mkdir('dataset')\n",
    "except:\n",
    "    pass\n",
    "\n",
    "try:\n",
    "    for variant in VARIANTS:\n",
    "        os.mkdir(f'dataset/{variant}')\n",
    "except:\n",
    "    pass\n",
    "\n",
    "kaggle_ds = \"Kaggle_ds\"\n",
    "\n",
    "i_1 = 0\n",
    "i_2 = 0\n",
    "for dir in os.listdir(kaggle_ds):\n",
    "    for dir_class in os.listdir(f'{kaggle_ds}/{dir}'):\n",
    "        print(f'{kaggle_ds}/{dir}/{dir_class}')\n",
    "        if dir_class == \"food\":\n",
    "            for pic_path in os.listdir(f'{kaggle_ds}/{dir}/{dir_class}'):\n",
    "                processed_image = getProcessedImage(f'{kaggle_ds}/{dir}/{dir_class}/{pic_path}')\n",
    "                saveWithAugment(f'dataset/{VARIANTS[0]}/{i_1}.jpg', processed_image)\n",
    "                i_1 += 1\n",
    "\n",
    "        else :\n",
    "            for pic_path in os.listdir(f'{kaggle_ds}/{dir}/{dir_class}'):\n",
    "                processed_image = getProcessedImage(f'{kaggle_ds}/{dir}/{dir_class}/{pic_path}')\n",
    "                saveWithAugment(f'dataset/{VARIANTS[1]}/{i_1}.jpg', processed_image)\n",
    "                i_2 += 1"
   ]
  }
 ],
 "metadata": {
  "kernelspec": {
   "display_name": "Python 3.11.3 64-bit",
   "language": "python",
   "name": "python3"
  },
  "language_info": {
   "name": "python",
   "version": "3.11.3"
  },
  "orig_nbformat": 4,
  "vscode": {
   "interpreter": {
    "hash": "c261aea317cc0286b3b3261fbba9abdec21eaa57589985bb7a274bf54d6cc0a7"
   }
  }
 },
 "nbformat": 4,
 "nbformat_minor": 2
}
